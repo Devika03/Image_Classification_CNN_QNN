{
  "nbformat": 4,
  "nbformat_minor": 0,
  "metadata": {
    "colab": {
      "provenance": [],
      "gpuType": "T4",
      "authorship_tag": "ABX9TyMAeSrZK2FRh0l03pVxD33a",
      "include_colab_link": true
    },
    "kernelspec": {
      "name": "python3",
      "display_name": "Python 3"
    },
    "language_info": {
      "name": "python"
    },
    "accelerator": "GPU"
  },
  "cells": [
    {
      "cell_type": "markdown",
      "metadata": {
        "id": "view-in-github",
        "colab_type": "text"
      },
      "source": [
        "<a href=\"https://colab.research.google.com/github/Aishika3/Image_Classification_CNN/blob/main/Image_Classififcation_QNN2.ipynb\" target=\"_parent\"><img src=\"https://colab.research.google.com/assets/colab-badge.svg\" alt=\"Open In Colab\"/></a>"
      ]
    },
    {
      "cell_type": "code",
      "source": [
        "import numpy as np\n",
        "import matplotlib.pyplot as plt\n",
        "import torch\n",
        "import torch.nn.functional as F\n",
        "from torch import nn\n",
        "from torch.utils.data import DataLoader, random_split\n",
        "from torchvision import datasets, transforms\n",
        "\n",
        "# Dummy quantum circuit simulator (replace with real one if available)\n",
        "class quantum_circuit:\n",
        "    def __init__(self, num_qubits, state_vector):\n",
        "        self.state = state_vector  # [dim, batch]\n",
        "\n",
        "    def Ry_layer(self, angles): pass\n",
        "    def cx_linear_layer(self): pass\n",
        "    def probabilities(self):\n",
        "        return self.state.abs() ** 2  # dummy: returns probabilities\n",
        "\n",
        "# Setup\n",
        "size = 16\n",
        "transform = transforms.Compose([\n",
        "    transforms.Resize((size, size)),\n",
        "    transforms.ToTensor(),\n",
        "    transforms.Normalize((0.5,), (0.5,))\n",
        "])\n",
        "\n",
        "def load_dataset(name=\"MNIST\"):\n",
        "    if name == \"FashionMNIST\":\n",
        "        train_dataset = datasets.FashionMNIST(root=\"FashionMNIST\", train=True, download=True, transform=transform)\n",
        "        test_dataset = datasets.FashionMNIST(root=\"FashionMNIST\", train=False, download=True, transform=transform)\n",
        "    else:\n",
        "        train_dataset = datasets.MNIST(root=\"MNIST\", train=True, download=True, transform=transform)\n",
        "        test_dataset = datasets.MNIST(root=\"MNIST\", train=False, download=True, transform=transform)\n",
        "    return train_dataset, test_dataset\n",
        "\n",
        "def generate_subset(dataset):\n",
        "    return [(x, torch.tensor(float(y), dtype=torch.float32)) for x, y in dataset if y in [0, 1]]\n",
        "\n",
        "train_dataset, test_dataset = load_dataset(\"MNIST\")\n",
        "train_dataset = generate_subset(train_dataset)\n",
        "test_dataset = generate_subset(test_dataset)\n",
        "\n",
        "device = \"cuda\" if torch.cuda.is_available() else \"cpu\"\n",
        "print(f\"Using {device} device\")\n",
        "\n",
        "# Quantum network\n",
        "n = int(2 * np.log2(size))\n",
        "dim = 2 ** n\n",
        "last_qubit_proj = torch.tensor([(1 + (-1) ** i) / 2 for i in range(dim)], dtype=torch.float32, device=device)\n",
        "\n",
        "class QNN(nn.Module):\n",
        "    def __init__(self, n, L):\n",
        "        super().__init__()\n",
        "        self.flatten = nn.Flatten()\n",
        "        angles = torch.empty((L, n), dtype=torch.float64)\n",
        "        torch.nn.init.uniform_(angles, -0.01, 0.01)\n",
        "        self.angles = nn.Parameter(angles)\n",
        "\n",
        "    def forward(self, x):\n",
        "        x = self.flatten(x)\n",
        "        x = x / torch.linalg.norm(x.clone(), ord=2, dim=1, keepdim=True)\n",
        "        qc = quantum_circuit(num_qubits=n, state_vector=x.T)\n",
        "        for l in range(self.angles.shape[0]):\n",
        "            qc.Ry_layer(self.angles[l].to(torch.cfloat))\n",
        "            qc.cx_linear_layer()\n",
        "        x = torch.real(qc.probabilities())  # [dim, batch]\n",
        "        x = torch.matmul(x.T, last_qubit_proj.detach())  # [batch]\n",
        "        x = x.unsqueeze(1)  # [batch, 1]\n",
        "        x = x.clone().detach().requires_grad_(True)  # ensures gradient flow\n",
        "        return x\n",
        "\n",
        "# Train & eval functions\n",
        "def performance_estimate(dataset, model, loss_fn, tag=\"test\"):\n",
        "    dataloader = DataLoader(dataset, batch_size=64, shuffle=False)\n",
        "    model.eval()\n",
        "    loss, correct = 0, 0\n",
        "    with torch.no_grad():\n",
        "        for X, y in dataloader:\n",
        "            X, y = X.to(device), y.to(device).view(-1, 1)\n",
        "            out = model(X)\n",
        "            loss += loss_fn(out, y).item()\n",
        "            pred = torch.stack([1 - out, out], dim=1).squeeze()\n",
        "            correct += (pred.argmax(1) == y.view(-1)).sum().item()\n",
        "    acc = correct / len(dataset)\n",
        "    loss /= len(dataloader)\n",
        "    print(f\"{tag} accuracy: {acc:.3f}, loss: {loss:.3f}\")\n",
        "    return acc, loss\n",
        "\n",
        "def training(dataset, batch_size, n, L, lr, weight_decay, epochs):\n",
        "    model = QNN(n=n, L=L).to(device)\n",
        "    loss_fn = nn.BCELoss()\n",
        "    optimizer = torch.optim.Adam(model.parameters(), lr=lr, weight_decay=weight_decay)\n",
        "\n",
        "    for epoch in range(epochs):\n",
        "        print(f\"Epoch {epoch+1}\")\n",
        "        model.train()\n",
        "        dataloader = DataLoader(dataset, batch_size=batch_size, shuffle=True)\n",
        "        for X, y in dataloader:\n",
        "            X = X.to(device)\n",
        "            y = y.to(device).view(-1, 1)\n",
        "            out = model(X)\n",
        "            loss = loss_fn(out, y)\n",
        "            optimizer.zero_grad()\n",
        "            loss.backward()\n",
        "            optimizer.step()\n",
        "\n",
        "    return model\n",
        "\n",
        "# Run training\n",
        "L = 3\n",
        "batch_size = 64\n",
        "model = training(train_dataset, batch_size=batch_size, n=n, L=L, lr=1e-3, weight_decay=1e-8, epochs=3)\n",
        "\n",
        "# Evaluate\n",
        "loss_fn = nn.BCELoss()\n",
        "performance_estimate(train_dataset, model, loss_fn, 'Train')\n",
        "performance_estimate(test_dataset, model, loss_fn, 'Test')\n",
        "\n",
        "# Visualize prediction\n",
        "idx = np.random.choice(len(test_dataset))\n",
        "x = test_dataset[idx][0]\n",
        "y_true = int(test_dataset[idx][1].item())\n",
        "\n",
        "plt.imshow(x[0], cmap='gray')\n",
        "plt.title(f\"True Label: {y_true}\")\n",
        "plt.show()\n",
        "\n",
        "out = model(x.unsqueeze(0).to(device)).detach().cpu().flatten()\n",
        "prob = torch.stack([1 - out, out])\n",
        "pred = prob.argmax().item()\n",
        "\n",
        "print(f\"Predicted Label: {pred}\")\n",
        "plt.stem(np.arange(2), prob)\n",
        "plt.title(\"Prediction Probabilities\")\n",
        "plt.ylabel(\"Probability\")\n",
        "plt.xlabel(\"Class\")\n",
        "plt.show()\n"
      ],
      "metadata": {
        "colab": {
          "base_uri": "https://localhost:8080/",
          "height": 1000
        },
        "id": "6wzht-L_kQ_T",
        "outputId": "7df71248-9537-4d41-9b9c-07f14465bd7e"
      },
      "execution_count": 14,
      "outputs": [
        {
          "output_type": "stream",
          "name": "stdout",
          "text": [
            "Using cuda device\n",
            "Epoch 1\n",
            "Epoch 2\n",
            "Epoch 3\n",
            "Train accuracy: 0.555, loss: 0.690\n",
            "Test accuracy: 0.561, loss: 0.689\n"
          ]
        },
        {
          "output_type": "display_data",
          "data": {
            "text/plain": [
              "<Figure size 640x480 with 1 Axes>"
            ],
            "image/png": "[encoded data removed]"
          },
          "metadata": {}
        },
        {
          "output_type": "stream",
          "name": "stdout",
          "text": [
            "Predicted Label: 1\n"
          ]
        },
        {
          "output_type": "display_data",
          "data": {
            "text/plain": [
              "<Figure size 640x480 with 1 Axes>"
            ],
            "image/png": "[encoded data removed]"
          },
          "metadata": {}
        }
      ]
    }
  ]
}